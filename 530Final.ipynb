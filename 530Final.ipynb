{
 "cells": [
  {
   "cell_type": "code",
   "execution_count": 22,
   "id": "f6164497",
   "metadata": {},
   "outputs": [
    {
     "ename": "ModuleNotFoundError",
     "evalue": "No module named 'thinkplot'",
     "output_type": "error",
     "traceback": [
      "\u001b[1;31m---------------------------------------------------------------------------\u001b[0m",
      "\u001b[1;31mModuleNotFoundError\u001b[0m                       Traceback (most recent call last)",
      "\u001b[1;32m<ipython-input-22-fec2b0d7a3d7>\u001b[0m in \u001b[0;36m<module>\u001b[1;34m\u001b[0m\n\u001b[0;32m      1\u001b[0m \u001b[1;32mimport\u001b[0m \u001b[0mpandas\u001b[0m \u001b[1;32mas\u001b[0m \u001b[0mpd\u001b[0m\u001b[1;33m\u001b[0m\u001b[1;33m\u001b[0m\u001b[0m\n\u001b[1;32m----> 2\u001b[1;33m \u001b[1;32mimport\u001b[0m \u001b[0mthinkplot\u001b[0m\u001b[1;33m\u001b[0m\u001b[1;33m\u001b[0m\u001b[0m\n\u001b[0m\u001b[0;32m      3\u001b[0m \u001b[1;32mimport\u001b[0m \u001b[0mmatplotlib\u001b[0m\u001b[1;33m.\u001b[0m\u001b[0mpyplot\u001b[0m \u001b[1;32mas\u001b[0m \u001b[0mplt\u001b[0m\u001b[1;33m\u001b[0m\u001b[1;33m\u001b[0m\u001b[0m\n\u001b[0;32m      4\u001b[0m \u001b[1;32mimport\u001b[0m \u001b[0mnumpy\u001b[0m \u001b[1;32mas\u001b[0m \u001b[0mnp\u001b[0m\u001b[1;33m\u001b[0m\u001b[1;33m\u001b[0m\u001b[0m\n\u001b[0;32m      5\u001b[0m \u001b[1;32mimport\u001b[0m \u001b[0mseaborn\u001b[0m \u001b[1;32mas\u001b[0m \u001b[0msns\u001b[0m\u001b[1;33m\u001b[0m\u001b[1;33m\u001b[0m\u001b[0m\n",
      "\u001b[1;31mModuleNotFoundError\u001b[0m: No module named 'thinkplot'"
     ]
    }
   ],
   "source": [
    "import pandas as pd\n",
    "import matplotlib.pyplot as plt\n",
    "import numpy as np\n",
    "import seaborn as sns\n",
    "from sklearn.linear_model import LinearRegression\n",
    "%matplotlib inline"
   ]
  },
  {
   "cell_type": "code",
   "execution_count": 2,
   "id": "8bee0ade",
   "metadata": {},
   "outputs": [],
   "source": [
    "df = pd.read_csv('C:\\\\Users\\\\jaybp\\\\Desktop\\\\530Final\\\\twitchdata\\\\wow.csv')\n",
    "df2 = pd.read_csv('C:\\\\Users\\\\jaybp\\\\Desktop\\\\530Final\\\\twitchdata\\\\cod.csv')\n",
    "df3 = pd.read_csv('C:\\\\Users\\\\jaybp\\\\Desktop\\\\530Final\\\\twitchdata\\\\lol.csv')\n",
    "df4 = pd.read_csv('C:\\\\Users\\\\jaybp\\\\Desktop\\\\530Final\\\\twitchdata\\\\twitch_game_data20.csv')"
   ]
  },
  {
   "cell_type": "code",
   "execution_count": 3,
   "id": "d599130d",
   "metadata": {},
   "outputs": [
    {
     "data": {
      "text/html": [
       "<div>\n",
       "<style scoped>\n",
       "    .dataframe tbody tr th:only-of-type {\n",
       "        vertical-align: middle;\n",
       "    }\n",
       "\n",
       "    .dataframe tbody tr th {\n",
       "        vertical-align: top;\n",
       "    }\n",
       "\n",
       "    .dataframe thead th {\n",
       "        text-align: right;\n",
       "    }\n",
       "</style>\n",
       "<table border=\"1\" class=\"dataframe\">\n",
       "  <thead>\n",
       "    <tr style=\"text-align: right;\">\n",
       "      <th></th>\n",
       "      <th>Rank</th>\n",
       "      <th>Game</th>\n",
       "      <th>Month</th>\n",
       "      <th>Year</th>\n",
       "      <th>Hours_watched</th>\n",
       "      <th>Hours_Streamed</th>\n",
       "      <th>Peak_viewers</th>\n",
       "      <th>Peak_channels</th>\n",
       "      <th>Streamers</th>\n",
       "      <th>Avg_viewers</th>\n",
       "      <th>Avg_channels</th>\n",
       "      <th>Avg_viewer_ratio</th>\n",
       "    </tr>\n",
       "  </thead>\n",
       "  <tbody>\n",
       "    <tr>\n",
       "      <th>0</th>\n",
       "      <td>8</td>\n",
       "      <td>World of Warcraft</td>\n",
       "      <td>1</td>\n",
       "      <td>2020</td>\n",
       "      <td>27563181</td>\n",
       "      <td>940687 hours</td>\n",
       "      <td>167799</td>\n",
       "      <td>4077</td>\n",
       "      <td>59799</td>\n",
       "      <td>37097</td>\n",
       "      <td>1266</td>\n",
       "      <td>29.30</td>\n",
       "    </tr>\n",
       "    <tr>\n",
       "      <th>1</th>\n",
       "      <td>8</td>\n",
       "      <td>World of Warcraft</td>\n",
       "      <td>2</td>\n",
       "      <td>2020</td>\n",
       "      <td>31740780</td>\n",
       "      <td>1009217 hours</td>\n",
       "      <td>293197</td>\n",
       "      <td>4240</td>\n",
       "      <td>61087</td>\n",
       "      <td>45670</td>\n",
       "      <td>1452</td>\n",
       "      <td>31.45</td>\n",
       "    </tr>\n",
       "    <tr>\n",
       "      <th>2</th>\n",
       "      <td>13</td>\n",
       "      <td>World of Warcraft</td>\n",
       "      <td>3</td>\n",
       "      <td>2020</td>\n",
       "      <td>20337340</td>\n",
       "      <td>1096231 hours</td>\n",
       "      <td>73509</td>\n",
       "      <td>4060</td>\n",
       "      <td>65578</td>\n",
       "      <td>27371</td>\n",
       "      <td>1475</td>\n",
       "      <td>18.55</td>\n",
       "    </tr>\n",
       "    <tr>\n",
       "      <th>3</th>\n",
       "      <td>10</td>\n",
       "      <td>World of Warcraft</td>\n",
       "      <td>4</td>\n",
       "      <td>2020</td>\n",
       "      <td>33013013</td>\n",
       "      <td>1326196 hours</td>\n",
       "      <td>150840</td>\n",
       "      <td>4515</td>\n",
       "      <td>68562</td>\n",
       "      <td>45915</td>\n",
       "      <td>1844</td>\n",
       "      <td>24.89</td>\n",
       "    </tr>\n",
       "    <tr>\n",
       "      <th>4</th>\n",
       "      <td>11</td>\n",
       "      <td>World of Warcraft</td>\n",
       "      <td>5</td>\n",
       "      <td>2020</td>\n",
       "      <td>36702327</td>\n",
       "      <td>1398699 hours</td>\n",
       "      <td>123076</td>\n",
       "      <td>4731</td>\n",
       "      <td>69030</td>\n",
       "      <td>49397</td>\n",
       "      <td>1882</td>\n",
       "      <td>26.24</td>\n",
       "    </tr>\n",
       "    <tr>\n",
       "      <th>5</th>\n",
       "      <td>11</td>\n",
       "      <td>World of Warcraft</td>\n",
       "      <td>6</td>\n",
       "      <td>2020</td>\n",
       "      <td>32400568</td>\n",
       "      <td>1119802 hours</td>\n",
       "      <td>137907</td>\n",
       "      <td>4178</td>\n",
       "      <td>59924</td>\n",
       "      <td>45063</td>\n",
       "      <td>1557</td>\n",
       "      <td>28.93</td>\n",
       "    </tr>\n",
       "    <tr>\n",
       "      <th>6</th>\n",
       "      <td>10</td>\n",
       "      <td>World of Warcraft</td>\n",
       "      <td>7</td>\n",
       "      <td>2020</td>\n",
       "      <td>35243547</td>\n",
       "      <td>1199477 hours</td>\n",
       "      <td>247146</td>\n",
       "      <td>3821</td>\n",
       "      <td>64159</td>\n",
       "      <td>47434</td>\n",
       "      <td>1614</td>\n",
       "      <td>29.38</td>\n",
       "    </tr>\n",
       "    <tr>\n",
       "      <th>7</th>\n",
       "      <td>12</td>\n",
       "      <td>World of Warcraft</td>\n",
       "      <td>8</td>\n",
       "      <td>2020</td>\n",
       "      <td>30251347</td>\n",
       "      <td>1227978 hours</td>\n",
       "      <td>125034</td>\n",
       "      <td>4059</td>\n",
       "      <td>66062</td>\n",
       "      <td>40715</td>\n",
       "      <td>1652</td>\n",
       "      <td>24.64</td>\n",
       "    </tr>\n",
       "    <tr>\n",
       "      <th>8</th>\n",
       "      <td>12</td>\n",
       "      <td>World of Warcraft</td>\n",
       "      <td>9</td>\n",
       "      <td>2020</td>\n",
       "      <td>28332755</td>\n",
       "      <td>1077759 hours</td>\n",
       "      <td>114189</td>\n",
       "      <td>3889</td>\n",
       "      <td>62389</td>\n",
       "      <td>39405</td>\n",
       "      <td>1498</td>\n",
       "      <td>26.29</td>\n",
       "    </tr>\n",
       "    <tr>\n",
       "      <th>9</th>\n",
       "      <td>13</td>\n",
       "      <td>World of Warcraft</td>\n",
       "      <td>10</td>\n",
       "      <td>2020</td>\n",
       "      <td>33429794</td>\n",
       "      <td>1121230 hours</td>\n",
       "      <td>210166</td>\n",
       "      <td>3721</td>\n",
       "      <td>67486</td>\n",
       "      <td>44992</td>\n",
       "      <td>1509</td>\n",
       "      <td>29.82</td>\n",
       "    </tr>\n",
       "    <tr>\n",
       "      <th>10</th>\n",
       "      <td>7</td>\n",
       "      <td>World of Warcraft</td>\n",
       "      <td>11</td>\n",
       "      <td>2020</td>\n",
       "      <td>54668977</td>\n",
       "      <td>1708742 hours</td>\n",
       "      <td>933430</td>\n",
       "      <td>25791</td>\n",
       "      <td>93850</td>\n",
       "      <td>76034</td>\n",
       "      <td>2376</td>\n",
       "      <td>31.99</td>\n",
       "    </tr>\n",
       "    <tr>\n",
       "      <th>11</th>\n",
       "      <td>4</td>\n",
       "      <td>World of Warcraft</td>\n",
       "      <td>12</td>\n",
       "      <td>2020</td>\n",
       "      <td>90202480</td>\n",
       "      <td>2343848 hours</td>\n",
       "      <td>411898</td>\n",
       "      <td>11273</td>\n",
       "      <td>108723</td>\n",
       "      <td>121403</td>\n",
       "      <td>3154</td>\n",
       "      <td>38.48</td>\n",
       "    </tr>\n",
       "  </tbody>\n",
       "</table>\n",
       "</div>"
      ],
      "text/plain": [
       "    Rank               Game  Month  Year  Hours_watched Hours_Streamed  \\\n",
       "0      8  World of Warcraft      1  2020       27563181   940687 hours   \n",
       "1      8  World of Warcraft      2  2020       31740780  1009217 hours   \n",
       "2     13  World of Warcraft      3  2020       20337340  1096231 hours   \n",
       "3     10  World of Warcraft      4  2020       33013013  1326196 hours   \n",
       "4     11  World of Warcraft      5  2020       36702327  1398699 hours   \n",
       "5     11  World of Warcraft      6  2020       32400568  1119802 hours   \n",
       "6     10  World of Warcraft      7  2020       35243547  1199477 hours   \n",
       "7     12  World of Warcraft      8  2020       30251347  1227978 hours   \n",
       "8     12  World of Warcraft      9  2020       28332755  1077759 hours   \n",
       "9     13  World of Warcraft     10  2020       33429794  1121230 hours   \n",
       "10     7  World of Warcraft     11  2020       54668977  1708742 hours   \n",
       "11     4  World of Warcraft     12  2020       90202480  2343848 hours   \n",
       "\n",
       "    Peak_viewers  Peak_channels  Streamers  Avg_viewers  Avg_channels  \\\n",
       "0         167799           4077      59799        37097          1266   \n",
       "1         293197           4240      61087        45670          1452   \n",
       "2          73509           4060      65578        27371          1475   \n",
       "3         150840           4515      68562        45915          1844   \n",
       "4         123076           4731      69030        49397          1882   \n",
       "5         137907           4178      59924        45063          1557   \n",
       "6         247146           3821      64159        47434          1614   \n",
       "7         125034           4059      66062        40715          1652   \n",
       "8         114189           3889      62389        39405          1498   \n",
       "9         210166           3721      67486        44992          1509   \n",
       "10        933430          25791      93850        76034          2376   \n",
       "11        411898          11273     108723       121403          3154   \n",
       "\n",
       "    Avg_viewer_ratio  \n",
       "0              29.30  \n",
       "1              31.45  \n",
       "2              18.55  \n",
       "3              24.89  \n",
       "4              26.24  \n",
       "5              28.93  \n",
       "6              29.38  \n",
       "7              24.64  \n",
       "8              26.29  \n",
       "9              29.82  \n",
       "10             31.99  \n",
       "11             38.48  "
      ]
     },
     "execution_count": 3,
     "metadata": {},
     "output_type": "execute_result"
    }
   ],
   "source": [
    "df\n"
   ]
  },
  {
   "cell_type": "code",
   "execution_count": 4,
   "id": "3a098cd5",
   "metadata": {},
   "outputs": [
    {
     "data": {
      "text/html": [
       "<div>\n",
       "<style scoped>\n",
       "    .dataframe tbody tr th:only-of-type {\n",
       "        vertical-align: middle;\n",
       "    }\n",
       "\n",
       "    .dataframe tbody tr th {\n",
       "        vertical-align: top;\n",
       "    }\n",
       "\n",
       "    .dataframe thead th {\n",
       "        text-align: right;\n",
       "    }\n",
       "</style>\n",
       "<table border=\"1\" class=\"dataframe\">\n",
       "  <thead>\n",
       "    <tr style=\"text-align: right;\">\n",
       "      <th></th>\n",
       "      <th>Rank</th>\n",
       "      <th>Game</th>\n",
       "      <th>Month</th>\n",
       "      <th>Year</th>\n",
       "      <th>Hours_watched</th>\n",
       "      <th>Hours_Streamed</th>\n",
       "      <th>Peak_viewers</th>\n",
       "      <th>Peak_channels</th>\n",
       "      <th>Streamers</th>\n",
       "      <th>Avg_viewers</th>\n",
       "      <th>Avg_channels</th>\n",
       "      <th>Avg_viewer_ratio</th>\n",
       "    </tr>\n",
       "  </thead>\n",
       "  <tbody>\n",
       "    <tr>\n",
       "      <th>0</th>\n",
       "      <td>1</td>\n",
       "      <td>League of Legends</td>\n",
       "      <td>1</td>\n",
       "      <td>2020</td>\n",
       "      <td>99657869</td>\n",
       "      <td>349964</td>\n",
       "      <td>8083</td>\n",
       "      <td>237426</td>\n",
       "      <td>134129</td>\n",
       "      <td>3974</td>\n",
       "      <td>33.74</td>\n",
       "      <td>NaN</td>\n",
       "    </tr>\n",
       "    <tr>\n",
       "      <th>1</th>\n",
       "      <td>1</td>\n",
       "      <td>League of Legends</td>\n",
       "      <td>2</td>\n",
       "      <td>2020</td>\n",
       "      <td>121635889</td>\n",
       "      <td>412216</td>\n",
       "      <td>7253</td>\n",
       "      <td>211492</td>\n",
       "      <td>175015</td>\n",
       "      <td>3668</td>\n",
       "      <td>47.71</td>\n",
       "      <td>NaN</td>\n",
       "    </tr>\n",
       "    <tr>\n",
       "      <th>2</th>\n",
       "      <td>1</td>\n",
       "      <td>League of Legends</td>\n",
       "      <td>3</td>\n",
       "      <td>2020</td>\n",
       "      <td>123599885</td>\n",
       "      <td>421581</td>\n",
       "      <td>8390</td>\n",
       "      <td>252555</td>\n",
       "      <td>166352</td>\n",
       "      <td>4122</td>\n",
       "      <td>40.36</td>\n",
       "      <td>NaN</td>\n",
       "    </tr>\n",
       "    <tr>\n",
       "      <th>3</th>\n",
       "      <td>3</td>\n",
       "      <td>League of Legends</td>\n",
       "      <td>4</td>\n",
       "      <td>2020</td>\n",
       "      <td>135859472</td>\n",
       "      <td>727437</td>\n",
       "      <td>8802</td>\n",
       "      <td>243651</td>\n",
       "      <td>188956</td>\n",
       "      <td>4814</td>\n",
       "      <td>39.25</td>\n",
       "      <td>NaN</td>\n",
       "    </tr>\n",
       "    <tr>\n",
       "      <th>4</th>\n",
       "      <td>3</td>\n",
       "      <td>League of Legends</td>\n",
       "      <td>5</td>\n",
       "      <td>2020</td>\n",
       "      <td>127698472</td>\n",
       "      <td>504630</td>\n",
       "      <td>8347</td>\n",
       "      <td>245122</td>\n",
       "      <td>171868</td>\n",
       "      <td>4734</td>\n",
       "      <td>36.30</td>\n",
       "      <td>NaN</td>\n",
       "    </tr>\n",
       "    <tr>\n",
       "      <th>5</th>\n",
       "      <td>2</td>\n",
       "      <td>League of Legends</td>\n",
       "      <td>6</td>\n",
       "      <td>2020</td>\n",
       "      <td>143290296</td>\n",
       "      <td>556963</td>\n",
       "      <td>7519</td>\n",
       "      <td>215394</td>\n",
       "      <td>199291</td>\n",
       "      <td>4168</td>\n",
       "      <td>47.80</td>\n",
       "      <td>NaN</td>\n",
       "    </tr>\n",
       "    <tr>\n",
       "      <th>6</th>\n",
       "      <td>2</td>\n",
       "      <td>League of Legends</td>\n",
       "      <td>7</td>\n",
       "      <td>2020</td>\n",
       "      <td>135123272</td>\n",
       "      <td>494759</td>\n",
       "      <td>7246</td>\n",
       "      <td>223201</td>\n",
       "      <td>181861</td>\n",
       "      <td>4372</td>\n",
       "      <td>41.59</td>\n",
       "      <td>NaN</td>\n",
       "    </tr>\n",
       "    <tr>\n",
       "      <th>7</th>\n",
       "      <td>2</td>\n",
       "      <td>League of Legends</td>\n",
       "      <td>8</td>\n",
       "      <td>2020</td>\n",
       "      <td>142551572</td>\n",
       "      <td>707347</td>\n",
       "      <td>7440</td>\n",
       "      <td>229635</td>\n",
       "      <td>191859</td>\n",
       "      <td>4375</td>\n",
       "      <td>43.85</td>\n",
       "      <td>NaN</td>\n",
       "    </tr>\n",
       "    <tr>\n",
       "      <th>8</th>\n",
       "      <td>3</td>\n",
       "      <td>League of Legends</td>\n",
       "      <td>9</td>\n",
       "      <td>2020</td>\n",
       "      <td>135008222</td>\n",
       "      <td>794857</td>\n",
       "      <td>6737</td>\n",
       "      <td>230335</td>\n",
       "      <td>187772</td>\n",
       "      <td>4415</td>\n",
       "      <td>42.53</td>\n",
       "      <td>NaN</td>\n",
       "    </tr>\n",
       "    <tr>\n",
       "      <th>9</th>\n",
       "      <td>2</td>\n",
       "      <td>League of Legends</td>\n",
       "      <td>10</td>\n",
       "      <td>2020</td>\n",
       "      <td>171613067</td>\n",
       "      <td>2020835</td>\n",
       "      <td>8520</td>\n",
       "      <td>246211</td>\n",
       "      <td>230973</td>\n",
       "      <td>4531</td>\n",
       "      <td>50.97</td>\n",
       "      <td>NaN</td>\n",
       "    </tr>\n",
       "    <tr>\n",
       "      <th>10</th>\n",
       "      <td>2</td>\n",
       "      <td>League of Legends</td>\n",
       "      <td>11</td>\n",
       "      <td>2020</td>\n",
       "      <td>121085351</td>\n",
       "      <td>345045</td>\n",
       "      <td>8877</td>\n",
       "      <td>254028</td>\n",
       "      <td>168407</td>\n",
       "      <td>4718</td>\n",
       "      <td>35.69</td>\n",
       "      <td>NaN</td>\n",
       "    </tr>\n",
       "    <tr>\n",
       "      <th>11</th>\n",
       "      <td>3</td>\n",
       "      <td>League of Legends</td>\n",
       "      <td>12</td>\n",
       "      <td>2020</td>\n",
       "      <td>96413165</td>\n",
       "      <td>318449</td>\n",
       "      <td>7979</td>\n",
       "      <td>247003</td>\n",
       "      <td>129761</td>\n",
       "      <td>4437</td>\n",
       "      <td>29.24</td>\n",
       "      <td>NaN</td>\n",
       "    </tr>\n",
       "  </tbody>\n",
       "</table>\n",
       "</div>"
      ],
      "text/plain": [
       "    Rank               Game  Month  Year  Hours_watched  Hours_Streamed  \\\n",
       "0      1  League of Legends      1  2020       99657869          349964   \n",
       "1      1  League of Legends      2  2020      121635889          412216   \n",
       "2      1  League of Legends      3  2020      123599885          421581   \n",
       "3      3  League of Legends      4  2020      135859472          727437   \n",
       "4      3  League of Legends      5  2020      127698472          504630   \n",
       "5      2  League of Legends      6  2020      143290296          556963   \n",
       "6      2  League of Legends      7  2020      135123272          494759   \n",
       "7      2  League of Legends      8  2020      142551572          707347   \n",
       "8      3  League of Legends      9  2020      135008222          794857   \n",
       "9      2  League of Legends     10  2020      171613067         2020835   \n",
       "10     2  League of Legends     11  2020      121085351          345045   \n",
       "11     3  League of Legends     12  2020       96413165          318449   \n",
       "\n",
       "    Peak_viewers  Peak_channels  Streamers  Avg_viewers  Avg_channels  \\\n",
       "0           8083         237426     134129         3974         33.74   \n",
       "1           7253         211492     175015         3668         47.71   \n",
       "2           8390         252555     166352         4122         40.36   \n",
       "3           8802         243651     188956         4814         39.25   \n",
       "4           8347         245122     171868         4734         36.30   \n",
       "5           7519         215394     199291         4168         47.80   \n",
       "6           7246         223201     181861         4372         41.59   \n",
       "7           7440         229635     191859         4375         43.85   \n",
       "8           6737         230335     187772         4415         42.53   \n",
       "9           8520         246211     230973         4531         50.97   \n",
       "10          8877         254028     168407         4718         35.69   \n",
       "11          7979         247003     129761         4437         29.24   \n",
       "\n",
       "    Avg_viewer_ratio  \n",
       "0                NaN  \n",
       "1                NaN  \n",
       "2                NaN  \n",
       "3                NaN  \n",
       "4                NaN  \n",
       "5                NaN  \n",
       "6                NaN  \n",
       "7                NaN  \n",
       "8                NaN  \n",
       "9                NaN  \n",
       "10               NaN  \n",
       "11               NaN  "
      ]
     },
     "execution_count": 4,
     "metadata": {},
     "output_type": "execute_result"
    }
   ],
   "source": [
    "df3"
   ]
  },
  {
   "cell_type": "code",
   "execution_count": 5,
   "id": "e388aa91",
   "metadata": {},
   "outputs": [
    {
     "data": {
      "text/plain": [
       "<AxesSubplot:xlabel='Month'>"
      ]
     },
     "execution_count": 5,
     "metadata": {},
     "output_type": "execute_result"
    },
    {
     "data": {
      "image/png": "[encoded data removed]",
      "text/plain": [
       "<Figure size 432x288 with 1 Axes>"
      ]
     },
     "metadata": {
      "needs_background": "light"
     },
     "output_type": "display_data"
    },
    {
     "data": {
      "image/png": "[encoded data removed]",
      "text/plain": [
       "<Figure size 432x288 with 1 Axes>"
      ]
     },
     "metadata": {
      "needs_background": "light"
     },
     "output_type": "display_data"
    }
   ],
   "source": [
    "df.plot(x = 'Month', y = \"Avg_viewers\", kind = 'hist')\n",
    "df.plot(x = 'Month', y = \"Avg_viewers\", kind = 'bar')"
   ]
  },
  {
   "cell_type": "code",
   "execution_count": 6,
   "id": "b6bdb975",
   "metadata": {},
   "outputs": [
    {
     "data": {
      "text/plain": [
       "<AxesSubplot:xlabel='Month'>"
      ]
     },
     "execution_count": 6,
     "metadata": {},
     "output_type": "execute_result"
    },
    {
     "data": {
      "image/png": "[encoded data removed]",
      "text/plain": [
       "<Figure size 432x288 with 1 Axes>"
      ]
     },
     "metadata": {
      "needs_background": "light"
     },
     "output_type": "display_data"
    },
    {
     "data": {
      "image/png": "[encoded data removed]",
      "text/plain": [
       "<Figure size 432x288 with 1 Axes>"
      ]
     },
     "metadata": {
      "needs_background": "light"
     },
     "output_type": "display_data"
    }
   ],
   "source": [
    "df3.plot(x = 'Month', y = \"Avg_viewers\", kind = 'hist')\n",
    "df3.plot(x = 'Month', y = \"Avg_viewers\", kind = 'bar')"
   ]
  },
  {
   "cell_type": "code",
   "execution_count": 7,
   "id": "ce11e049",
   "metadata": {},
   "outputs": [
    {
     "data": {
      "text/plain": [
       "<AxesSubplot:xlabel='Avg_viewers', ylabel='PMF'>"
      ]
     },
     "execution_count": 7,
     "metadata": {},
     "output_type": "execute_result"
    },
    {
     "data": {
      "image/png": "[encoded data removed]",
      "text/plain": [
       "<Figure size 432x288 with 1 Axes>"
      ]
     },
     "metadata": {
      "needs_background": "light"
     },
     "output_type": "display_data"
    }
   ],
   "source": [
    "plt.ylabel('PMF')\n",
    "sns.histplot(df['Avg_viewers'], stat = 'probability', bins = 20)"
   ]
  },
  {
   "cell_type": "code",
   "execution_count": 8,
   "id": "0790b6f2",
   "metadata": {},
   "outputs": [
    {
     "data": {
      "text/plain": [
       "<AxesSubplot:xlabel='Avg_viewers', ylabel='PMF'>"
      ]
     },
     "execution_count": 8,
     "metadata": {},
     "output_type": "execute_result"
    },
    {
     "data": {
      "image/png": "[encoded data removed]",
      "text/plain": [
       "<Figure size 432x288 with 1 Axes>"
      ]
     },
     "metadata": {
      "needs_background": "light"
     },
     "output_type": "display_data"
    }
   ],
   "source": [
    "plt.ylabel('PMF')\n",
    "sns.histplot(df3['Avg_viewers'], stat = 'probability', bins = 20)"
   ]
  },
  {
   "cell_type": "code",
   "execution_count": 9,
   "id": "7345453e",
   "metadata": {},
   "outputs": [
    {
     "data": {
      "text/plain": [
       "array([[<AxesSubplot:title={'center':'Rank'}>,\n",
       "        <AxesSubplot:title={'center':'Month'}>,\n",
       "        <AxesSubplot:title={'center':'Year'}>],\n",
       "       [<AxesSubplot:title={'center':'Hours_watched'}>,\n",
       "        <AxesSubplot:title={'center':'Peak_viewers'}>,\n",
       "        <AxesSubplot:title={'center':'Peak_channels'}>],\n",
       "       [<AxesSubplot:title={'center':'Streamers'}>,\n",
       "        <AxesSubplot:title={'center':'Avg_viewers'}>,\n",
       "        <AxesSubplot:title={'center':'Avg_channels'}>],\n",
       "       [<AxesSubplot:title={'center':'Avg_viewer_ratio'}>,\n",
       "        <AxesSubplot:>, <AxesSubplot:>]], dtype=object)"
      ]
     },
     "execution_count": 9,
     "metadata": {},
     "output_type": "execute_result"
    },
    {
     "data": {
      "image/png": "[encoded data removed]",
      "text/plain": [
       "<Figure size 432x288 with 12 Axes>"
      ]
     },
     "metadata": {
      "needs_background": "light"
     },
     "output_type": "display_data"
    }
   ],
   "source": [
    "df.hist(cumulative = True)"
   ]
  },
  {
   "cell_type": "code",
   "execution_count": 10,
   "id": "4f788851",
   "metadata": {},
   "outputs": [
    {
     "data": {
      "text/plain": [
       "<matplotlib.collections.PathCollection at 0x28192cb76a0>"
      ]
     },
     "execution_count": 10,
     "metadata": {},
     "output_type": "execute_result"
    },
    {
     "data": {
      "image/png": "[encoded data removed]",
      "text/plain": [
       "<Figure size 432x288 with 1 Axes>"
      ]
     },
     "metadata": {
      "needs_background": "light"
     },
     "output_type": "display_data"
    }
   ],
   "source": [
    "plt.scatter(x =df['Avg_viewers'], y = df['Hours_watched'])"
   ]
  },
  {
   "cell_type": "code",
   "execution_count": 11,
   "id": "96fc4476",
   "metadata": {},
   "outputs": [
    {
     "data": {
      "text/plain": [
       "<matplotlib.collections.PathCollection at 0x28193360b50>"
      ]
     },
     "execution_count": 11,
     "metadata": {},
     "output_type": "execute_result"
    },
    {
     "data": {
      "image/png": "[encoded data removed]",
      "text/plain": [
       "<Figure size 432x288 with 1 Axes>"
      ]
     },
     "metadata": {
      "needs_background": "light"
     },
     "output_type": "display_data"
    }
   ],
   "source": [
    "plt.scatter(x = df3['Avg_viewers'], y = df['Hours_watched'])"
   ]
  },
  {
   "cell_type": "code",
   "execution_count": 12,
   "id": "d74bbcc4",
   "metadata": {},
   "outputs": [
    {
     "data": {
      "text/plain": [
       "0.9990335802306346"
      ]
     },
     "execution_count": 12,
     "metadata": {},
     "output_type": "execute_result"
    }
   ],
   "source": [
    "x = df[\"Avg_viewers\"]\n",
    "y = df[\"Hours_watched\"]\n",
    "correlation = y.corr(x)\n",
    "correlation"
   ]
  },
  {
   "cell_type": "code",
   "execution_count": 13,
   "id": "14b7e63a",
   "metadata": {},
   "outputs": [
    {
     "name": "stderr",
     "output_type": "stream",
     "text": [
      "C:\\Users\\jaybp\\anaconda3\\lib\\site-packages\\seaborn\\_decorators.py:36: FutureWarning: Pass the following variables as keyword args: x, y. From version 0.12, the only valid positional argument will be `data`, and passing other arguments without an explicit keyword will result in an error or misinterpretation.\n",
      "  warnings.warn(\n"
     ]
    },
    {
     "data": {
      "text/plain": [
       "<AxesSubplot:xlabel='Avg_viewers', ylabel='Hours_watched'>"
      ]
     },
     "execution_count": 13,
     "metadata": {},
     "output_type": "execute_result"
    },
    {
     "data": {
      "image/png": "[encoded data removed]",
      "text/plain": [
       "<Figure size 432x288 with 1 Axes>"
      ]
     },
     "metadata": {
      "needs_background": "light"
     },
     "output_type": "display_data"
    }
   ],
   "source": [
    "sns.regplot(x, y, ci=None)"
   ]
  },
  {
   "cell_type": "code",
   "execution_count": 14,
   "id": "84f8e19c",
   "metadata": {},
   "outputs": [
    {
     "data": {
      "text/plain": [
       "(array([1., 7., 2., 0., 0., 1., 0., 0., 0., 1.]),\n",
       " array([ 27371. ,  36774.2,  46177.4,  55580.6,  64983.8,  74387. ,\n",
       "         83790.2,  93193.4, 102596.6, 111999.8, 121403. ]),\n",
       " <BarContainer object of 10 artists>)"
      ]
     },
     "execution_count": 14,
     "metadata": {},
     "output_type": "execute_result"
    },
    {
     "data": {
      "image/png": "[encoded data removed]",
      "text/plain": [
       "<Figure size 432x288 with 1 Axes>"
      ]
     },
     "metadata": {
      "needs_background": "light"
     },
     "output_type": "display_data"
    }
   ],
   "source": [
    "plt.hist(df[\"Avg_viewers\"])"
   ]
  },
  {
   "cell_type": "code",
   "execution_count": 15,
   "id": "50a1ea0f",
   "metadata": {},
   "outputs": [
    {
     "data": {
      "text/plain": [
       "(array([1., 7., 2., 0., 1., 0., 0., 0., 0., 1.]),\n",
       " array([20337340., 27323854., 34310368., 41296882., 48283396., 55269910.,\n",
       "        62256424., 69242938., 76229452., 83215966., 90202480.]),\n",
       " <BarContainer object of 10 artists>)"
      ]
     },
     "execution_count": 15,
     "metadata": {},
     "output_type": "execute_result"
    },
    {
     "data": {
      "image/png": "[encoded data removed]",
      "text/plain": [
       "<Figure size 432x288 with 1 Axes>"
      ]
     },
     "metadata": {
      "needs_background": "light"
     },
     "output_type": "display_data"
    }
   ],
   "source": [
    "plt.hist(df[\"Hours_watched\"])"
   ]
  },
  {
   "cell_type": "code",
   "execution_count": 16,
   "id": "fcb5cb7a",
   "metadata": {},
   "outputs": [
    {
     "data": {
      "text/plain": [
       "(array([2., 1., 1., 1., 1., 1., 1., 1., 1., 2.]),\n",
       " array([ 0. ,  1.1,  2.2,  3.3,  4.4,  5.5,  6.6,  7.7,  8.8,  9.9, 11. ]),\n",
       " <BarContainer object of 10 artists>)"
      ]
     },
     "execution_count": 16,
     "metadata": {},
     "output_type": "execute_result"
    },
    {
     "data": {
      "image/png": "[encoded data removed]",
      "text/plain": [
       "<Figure size 1440x144 with 1 Axes>"
      ]
     },
     "metadata": {
      "needs_background": "light"
     },
     "output_type": "display_data"
    }
   ],
   "source": [
    "plt.subplots(figsize=(20, 2))\n",
    "plt.hist(df[\"Hours_Streamed\"])"
   ]
  },
  {
   "cell_type": "code",
   "execution_count": 21,
   "id": "a6811552",
   "metadata": {},
   "outputs": [
    {
     "data": {
      "text/plain": [
       "<AxesSubplot:xlabel='Avg_viewers', ylabel='Density'>"
      ]
     },
     "execution_count": 21,
     "metadata": {},
     "output_type": "execute_result"
    },
    {
     "data": {
      "image/png": "[encoded data removed]",
      "text/plain": [
       "<Figure size 432x288 with 1 Axes>"
      ]
     },
     "metadata": {
      "needs_background": "light"
     },
     "output_type": "display_data"
    }
   ],
   "source": [
    "sns.kdeplot(df['Avg_viewers'], cumulative = True)"
   ]
  },
  {
   "cell_type": "code",
   "execution_count": null,
   "id": "3baf971f",
   "metadata": {},
   "outputs": [],
   "source": []
  }
 ],
 "metadata": {
  "kernelspec": {
   "display_name": "Python 3",
   "language": "python",
   "name": "python3"
  },
  "language_info": {
   "codemirror_mode": {
    "name": "ipython",
    "version": 3
   },
   "file_extension": ".py",
   "mimetype": "text/x-python",
   "name": "python",
   "nbconvert_exporter": "python",
   "pygments_lexer": "ipython3",
   "version": "3.8.8"
  }
 },
 "nbformat": 4,
 "nbformat_minor": 5
}
